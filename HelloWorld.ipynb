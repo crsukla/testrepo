{
  "nbformat": 4,
  "nbformat_minor": 0,
  "metadata": {
    "colab": {
      "provenance": [],
      "authorship_tag": "ABX9TyMeo113jonUhc982tumaVaR",
      "include_colab_link": true
    },
    "kernelspec": {
      "name": "python3",
      "display_name": "Python 3"
    },
    "language_info": {
      "name": "python"
    }
  },
  "cells": [
    {
      "cell_type": "markdown",
      "metadata": {
        "id": "view-in-github",
        "colab_type": "text"
      },
      "source": [
        "<a href=\"https://colab.research.google.com/github/crsukla/testrepo/blob/master/HelloWorld.ipynb\" target=\"_parent\"><img src=\"https://colab.research.google.com/assets/colab-badge.svg\" alt=\"Open In Colab\"/></a>"
      ]
    },
    {
      "cell_type": "code",
      "execution_count": 16,
      "metadata": {
        "colab": {
          "base_uri": "https://localhost:8080/"
        },
        "id": "xMKxeo-hQ4o6",
        "outputId": "37215088-4d42-479b-d9c9-14d9887c2ed5"
      },
      "outputs": [
        {
          "output_type": "stream",
          "name": "stdout",
          "text": [
            "[1289 7293 1344 7291 9372 4829 1520 9224 9289 6400 5648 4452  239 2443\n",
            " 2102 3416 7290  574 8036 9166]\n"
          ]
        }
      ],
      "source": [
        "# prompt: 2 random number using numpy\n",
        "\n",
        "import numpy as np\n",
        "np.random.seed(10)\n",
        "x = np.random.randint(10000, size=20)\n",
        "print(x)\n"
      ]
    }
  ]
}